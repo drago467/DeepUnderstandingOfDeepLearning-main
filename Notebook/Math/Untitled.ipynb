{
 "cells": [
  {
   "cell_type": "code",
   "execution_count": 2,
   "id": "650d0e78",
   "metadata": {},
   "outputs": [],
   "source": [
    "import numpy as np"
   ]
  },
  {
   "cell_type": "code",
   "execution_count": 4,
   "id": "e947451e",
   "metadata": {},
   "outputs": [
    {
     "name": "stdout",
     "output_type": "stream",
     "text": [
      "[[1 2 3 4]]\n",
      " \n",
      "[[1]\n",
      " [2]\n",
      " [3]\n",
      " [4]]\n",
      " \n",
      "[[1 2 3 4]]\n"
     ]
    }
   ],
   "source": [
    "# create a vector\n",
    "nv = np.array([[1, 2, 3, 4]])\n",
    "print(nv), print(' ')\n",
    "\n",
    "# transpose it \n",
    "print(nv.T), print(' ')\n",
    "\n",
    "# transpose the transpose !\n",
    "nvT = nv.T\n",
    "print(nvT.T)"
   ]
  },
  {
   "cell_type": "code",
   "execution_count": null,
   "id": "1037bce5",
   "metadata": {},
   "outputs": [],
   "source": [
    "conda create -n env_pytorch python=3.6"
   ]
  },
  {
   "cell_type": "code",
   "execution_count": null,
   "id": "b0546b81",
   "metadata": {},
   "outputs": [],
   "source": [
    "conda activate env_pytorch"
   ]
  },
  {
   "cell_type": "code",
   "execution_count": null,
   "id": "7b922d94",
   "metadata": {},
   "outputs": [],
   "source": [
    "pip install torchvision "
   ]
  },
  {
   "cell_type": "code",
   "execution_count": null,
   "id": "0c05159d",
   "metadata": {},
   "outputs": [],
   "source": [
    "# create a vector\n",
    "tv = torch.tensor([ [1, 2, 3, 4] ])\n",
    "print(tv), print(' ')\n",
    "\n",
    "# transpose it\n",
    "print(tv.T), print(' ')\n",
    "\n",
    "# transpose the transpose !\n",
    "tvT = tv.T\n",
    "print(tvT.T)"
   ]
  },
  {
   "cell_type": "code",
   "execution_count": null,
   "id": "2c558567",
   "metadata": {},
   "outputs": [],
   "source": [
    "# repeat for a matrix\n",
    "tM  = torch.tensor([ [1, 2, 3, 4], [5, 6, 7, 8] ])\n",
    "print(tM), print(' ')\n",
    "\n",
    "# transpose it\n",
    "print(tM.T), print(' ')\n",
    "\n",
    "# transpose the transpose !\n",
    "tMT = tM.T\n",
    "print(tMT.T)"
   ]
  },
  {
   "cell_type": "code",
   "execution_count": null,
   "id": "fdf18c49",
   "metadata": {},
   "outputs": [],
   "source": []
  }
 ],
 "metadata": {
  "kernelspec": {
   "display_name": "Python 3 (ipykernel)",
   "language": "python",
   "name": "python3"
  },
  "language_info": {
   "codemirror_mode": {
    "name": "ipython",
    "version": 3
   },
   "file_extension": ".py",
   "mimetype": "text/x-python",
   "name": "python",
   "nbconvert_exporter": "python",
   "pygments_lexer": "ipython3",
   "version": "3.11.4"
  }
 },
 "nbformat": 4,
 "nbformat_minor": 5
}
