{
  "nbformat": 4,
  "nbformat_minor": 0,
  "metadata": {
    "colab": {
      "provenance": [],
      "authorship_tag": "ABX9TyM17LIFyJL556Zszoz2fwxS",
      "include_colab_link": true
    },
    "kernelspec": {
      "name": "python3",
      "display_name": "Python 3"
    },
    "language_info": {
      "name": "python"
    }
  },
  "cells": [
    {
      "cell_type": "markdown",
      "metadata": {
        "id": "view-in-github",
        "colab_type": "text"
      },
      "source": [
        "<a href=\"https://colab.research.google.com/github/drago467/DeepUnderstandingOfDeepLearning-main/blob/master/Notebook/Math/Matrix_multiplication.ipynb\" target=\"_parent\"><img src=\"https://colab.research.google.com/assets/colab-badge.svg\" alt=\"Open In Colab\"/></a>"
      ]
    },
    {
      "cell_type": "code",
      "execution_count": null,
      "metadata": {
        "id": "PH9PMYkVbuhH"
      },
      "outputs": [],
      "source": [
        "# import libraries\n",
        "import numpy as np\n",
        "import torch"
      ]
    },
    {
      "cell_type": "code",
      "source": [
        "# create some random matrices\n",
        "A = np.random.randn(3, 4)\n",
        "B = np.random.randn(4, 5)\n",
        "C = np.random.randn(3, 7)\n",
        "\n",
        "# try some multiplications...\n",
        "print(np.round(A @ B, 2)), print(' ')\n",
        "# print(np.round(A @ C, 2)), print(' ')\n",
        "# print(np.round(B @ C, 2)), print(' ')\n",
        "print(np.round(C.T @ A, 2))"
      ],
      "metadata": {
        "colab": {
          "base_uri": "https://localhost:8080/"
        },
        "id": "kCpwKhh7eKaT",
        "outputId": "e7cc1e6e-2902-4db9-acc6-98195729aadb"
      },
      "execution_count": null,
      "outputs": [
        {
          "output_type": "stream",
          "name": "stdout",
          "text": [
            "[[ 0.58  1.51  0.92 -1.9  -0.92]\n",
            " [ 1.12  0.44  0.84 -2.1  -1.41]\n",
            " [-0.75 -1.67  1.3   0.61 -0.09]]\n",
            " \n",
            "[[ 0.14 -1.29 -2.17  0.96]\n",
            " [-0.32 -0.9  -1.97  1.65]\n",
            " [-1.02  0.69  1.21 -1.65]\n",
            " [-0.36  0.32  0.02  1.07]\n",
            " [-0.82  0.54  0.46  0.2 ]\n",
            " [ 1.27 -1.49 -2.65  2.72]\n",
            " [ 0.51 -0.8  -0.76 -0.78]]\n"
          ]
        }
      ]
    },
    {
      "cell_type": "code",
      "source": [
        "# create some random matries\n",
        "A = torch.randn(3, 4)\n",
        "B = torch.randn(4, 5)\n",
        "C1 = np.random.randn(4, 7)\n",
        "C2 = torch.tensor(C1, dtype = torch.float)\n",
        "\n",
        "# try some multiplications..\n",
        "print(np.round(A @ B, 2)), print(' ')\n",
        "# print(np.round(A @ B.T, 2)), print(' ')\n",
        "print(np.round(A @ C1, 2)), print(' ')\n",
        "print(np.round(A @ C2, 2))"
      ],
      "metadata": {
        "colab": {
          "base_uri": "https://localhost:8080/"
        },
        "id": "pmZww82LfLA9",
        "outputId": "926899a2-faf7-4913-d2f4-2034b688a85d"
      },
      "execution_count": null,
      "outputs": [
        {
          "output_type": "stream",
          "name": "stdout",
          "text": [
            "tensor([[-0.1900,  0.5700, -0.7800,  0.5600, -1.7300],\n",
            "        [-3.3100,  0.0200, -2.2800,  1.8400, -2.4600],\n",
            "        [ 2.2600, -0.0500,  0.8800, -1.8800,  0.9800]])\n",
            " \n",
            "tensor([[ 2.5400, -1.8800,  0.7300,  0.0600, -0.0300, -0.9500, -2.3200],\n",
            "        [ 2.6900, -3.9200, -2.1800,  0.5000,  3.5300, -0.8500, -3.3400],\n",
            "        [-2.5900, -1.2200,  0.8400, -1.3300, -2.0600,  0.2100,  1.3900]],\n",
            "       dtype=torch.float64)\n",
            " \n",
            "tensor([[ 2.5400, -1.8800,  0.7300,  0.0600, -0.0300, -0.9500, -2.3200],\n",
            "        [ 2.6900, -3.9200, -2.1800,  0.5000,  3.5300, -0.8500, -3.3400],\n",
            "        [-2.5900, -1.2200,  0.8400, -1.3300, -2.0600,  0.2100,  1.3900]])\n"
          ]
        }
      ]
    },
    {
      "cell_type": "code",
      "source": [],
      "metadata": {
        "id": "4vJ22jClhsPk"
      },
      "execution_count": null,
      "outputs": []
    }
  ]
}