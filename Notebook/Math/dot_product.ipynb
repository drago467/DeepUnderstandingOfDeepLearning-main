{
  "nbformat": 4,
  "nbformat_minor": 0,
  "metadata": {
    "colab": {
      "provenance": [],
      "authorship_tag": "ABX9TyOqkOporZU++vMGxWtCGjnG",
      "include_colab_link": true
    },
    "kernelspec": {
      "name": "python3",
      "display_name": "Python 3"
    },
    "language_info": {
      "name": "python"
    }
  },
  "cells": [
    {
      "cell_type": "markdown",
      "metadata": {
        "id": "view-in-github",
        "colab_type": "text"
      },
      "source": [
        "<a href=\"https://colab.research.google.com/github/drago467/DeepUnderstandingOfDeepLearning-main/blob/master/Notebook/Math/dot_product.ipynb\" target=\"_parent\"><img src=\"https://colab.research.google.com/assets/colab-badge.svg\" alt=\"Open In Colab\"/></a>"
      ]
    },
    {
      "cell_type": "code",
      "execution_count": 1,
      "metadata": {
        "id": "T00xkYKBY5Bs"
      },
      "outputs": [],
      "source": [
        "# import libraries\n",
        "import numpy as np\n",
        "import torch"
      ]
    },
    {
      "cell_type": "code",
      "source": [
        "# create a vector\n",
        "nv1 = np.array([1, 2, 3, 4])\n",
        "nv2 = np.array([0, 1, 0, -1])\n",
        "\n",
        "# dot product via function\n",
        "print(np.dot(nv1, nv2))\n",
        "\n",
        "# dot product via computation\n",
        "print(np.sum( nv1 * nv2))"
      ],
      "metadata": {
        "colab": {
          "base_uri": "https://localhost:8080/"
        },
        "id": "mJDn85_fZCNW",
        "outputId": "8c5426c3-90d9-4727-8e63-854b117200ee"
      },
      "execution_count": 2,
      "outputs": [
        {
          "output_type": "stream",
          "name": "stdout",
          "text": [
            "-2\n",
            "-2\n"
          ]
        }
      ]
    },
    {
      "cell_type": "code",
      "source": [
        "# create a vector\n",
        "tv1 = torch.tensor([1, 2, 3, 4])\n",
        "tv2 = torch.tensor([0, 1, 0, -1])\n",
        "\n",
        "# dot product via function\n",
        "print(torch.dot(tv1, tv2))\n",
        "\n",
        "# dot prodcut via computation\n",
        "print(torch.sum( tv1 * tv2 ))"
      ],
      "metadata": {
        "colab": {
          "base_uri": "https://localhost:8080/"
        },
        "id": "HVajae8ZaFr2",
        "outputId": "fe361fec-05b4-4d77-dedb-e100bc31410c"
      },
      "execution_count": 3,
      "outputs": [
        {
          "output_type": "stream",
          "name": "stdout",
          "text": [
            "tensor(-2)\n",
            "tensor(-2)\n"
          ]
        }
      ]
    },
    {
      "cell_type": "code",
      "source": [],
      "metadata": {
        "id": "RlDtud4macL6"
      },
      "execution_count": null,
      "outputs": []
    }
  ]
}