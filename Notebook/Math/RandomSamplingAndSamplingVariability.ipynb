{
  "nbformat": 4,
  "nbformat_minor": 0,
  "metadata": {
    "colab": {
      "provenance": [],
      "authorship_tag": "ABX9TyMp+3QK+W/0sCa6EbO5aDzv",
      "include_colab_link": true
    },
    "kernelspec": {
      "name": "python3",
      "display_name": "Python 3"
    },
    "language_info": {
      "name": "python"
    }
  },
  "cells": [
    {
      "cell_type": "markdown",
      "metadata": {
        "id": "view-in-github",
        "colab_type": "text"
      },
      "source": [
        "<a href=\"https://colab.research.google.com/github/drago467/DeepUnderstandingOfDeepLearning-main/blob/master/Notebook/Math/RandomSamplingAndSamplingVariability.ipynb\" target=\"_parent\"><img src=\"https://colab.research.google.com/assets/colab-badge.svg\" alt=\"Open In Colab\"/></a>"
      ]
    },
    {
      "cell_type": "code",
      "execution_count": 1,
      "metadata": {
        "id": "7YUcR_YyNmhB"
      },
      "outputs": [],
      "source": [
        "# import libraries\n",
        "import numpy as np\n",
        "import matplotlib.pyplot as plt"
      ]
    },
    {
      "cell_type": "code",
      "source": [
        "# create a list of numbers to compute the mean and variance of\n",
        "x = [1, 2, 4, 6, 5, 4, 0, -4, 5, -2, 6, 10, -9, 1, 3, -6]\n",
        "n = len(x)\n",
        "\n",
        "# compute the population mean\n",
        "popmean = np.mean(x)\n",
        "\n",
        "# compute a sample mean\n",
        "sample = np.random.choice(x, size = 5, replace = True)\n",
        "sampmean = np.mean(sample)\n",
        "\n",
        "# print them\n",
        "print(popmean)\n",
        "print(sampmean)"
      ],
      "metadata": {
        "colab": {
          "base_uri": "https://localhost:8080/"
        },
        "id": "BhUvag5lRAbY",
        "outputId": "b16bc7f9-7fcc-40cc-f1c3-65e4105ff1e5"
      },
      "execution_count": 2,
      "outputs": [
        {
          "output_type": "stream",
          "name": "stdout",
          "text": [
            "1.625\n",
            "2.0\n"
          ]
        }
      ]
    },
    {
      "cell_type": "code",
      "source": [
        "# compute lots of sample means\n",
        "\n",
        "# number of experiments to run\n",
        "nExpers = 10000\n",
        "\n",
        "# run the experiment !\n",
        "sampleMeans = np.zeros(nExpers)\n",
        "for i in range(nExpers):\n",
        "\n",
        "  # step 1 : draw a sample\n",
        "  sample = np.random.choice(x, size = 5, replace = True)\n",
        "\n",
        "  # step 2 : compute its mean\n",
        "  sampleMeans[i] = np.mean(sample)\n",
        "\n",
        "# show the results as a histogram\n",
        "plt.hist(sampleMeans, bins = 40, density = True)\n",
        "plt.plot([popmean, popmean], [0, .3], '--m')\n",
        "plt.ylabel('Count')\n",
        "plt.xlabel('Sample mean')\n",
        "plt.show()"
      ],
      "metadata": {
        "colab": {
          "base_uri": "https://localhost:8080/",
          "height": 449
        },
        "id": "JHIVE7mAR9AX",
        "outputId": "9b7b3f2b-6aea-482e-bbf2-d5496e9fa92b"
      },
      "execution_count": 4,
      "outputs": [
        {
          "output_type": "display_data",
          "data": {
            "text/plain": [
              "<Figure size 640x480 with 1 Axes>"
            ],
            "image/png": "[encoded data removed]"
          },
          "metadata": {}
        }
      ]
    },
    {
      "cell_type": "code",
      "source": [],
      "metadata": {
        "id": "E_ya0w_lTYj2"
      },
      "execution_count": null,
      "outputs": []
    }
  ]
}