{
  "cells": [
    {
      "cell_type": "markdown",
      "metadata": {
        "id": "view-in-github",
        "colab_type": "text"
      },
      "source": [
        "<a href=\"https://colab.research.google.com/github/drago467/DeepUnderstandingOfDeepLearning-main/blob/master/Notebook/Math/Vector_and_matrix_transpose.ipynb\" target=\"_parent\"><img src=\"https://colab.research.google.com/assets/colab-badge.svg\" alt=\"Open In Colab\"/></a>"
      ]
    },
    {
      "cell_type": "code",
      "execution_count": 7,
      "id": "650d0e78",
      "metadata": {
        "id": "650d0e78"
      },
      "outputs": [],
      "source": [
        "import numpy as np\n",
        "import torch"
      ]
    },
    {
      "cell_type": "code",
      "execution_count": 8,
      "id": "e947451e",
      "metadata": {
        "colab": {
          "base_uri": "https://localhost:8080/"
        },
        "id": "e947451e",
        "outputId": "882a1e8b-9546-4bb5-e0d1-7912b2654447"
      },
      "outputs": [
        {
          "output_type": "stream",
          "name": "stdout",
          "text": [
            "[[1 2 3 4]]\n",
            " \n",
            "[[1]\n",
            " [2]\n",
            " [3]\n",
            " [4]]\n",
            " \n",
            "[[1 2 3 4]]\n"
          ]
        }
      ],
      "source": [
        "# create a vector\n",
        "nv = np.array([[1, 2, 3, 4]])\n",
        "print(nv), print(' ')\n",
        "\n",
        "# transpose it\n",
        "print(nv.T), print(' ')\n",
        "\n",
        "# transpose the transpose !\n",
        "nvT = nv.T\n",
        "print(nvT.T)"
      ]
    },
    {
      "cell_type": "code",
      "execution_count": 9,
      "id": "0c05159d",
      "metadata": {
        "colab": {
          "base_uri": "https://localhost:8080/"
        },
        "id": "0c05159d",
        "outputId": "657a0185-7ac5-4577-bbc3-c06624429c1e"
      },
      "outputs": [
        {
          "output_type": "stream",
          "name": "stdout",
          "text": [
            "tensor([[1, 2, 3, 4]])\n",
            " \n",
            "tensor([[1],\n",
            "        [2],\n",
            "        [3],\n",
            "        [4]])\n",
            " \n",
            "tensor([[1, 2, 3, 4]])\n"
          ]
        }
      ],
      "source": [
        "# create a vector\n",
        "tv = torch.tensor([ [1, 2, 3, 4] ])\n",
        "print(tv), print(' ')\n",
        "\n",
        "# transpose it\n",
        "print(tv.T), print(' ')\n",
        "\n",
        "# transpose the transpose !\n",
        "tvT = tv.T\n",
        "print(tvT.T)"
      ]
    },
    {
      "cell_type": "code",
      "execution_count": 10,
      "id": "2c558567",
      "metadata": {
        "colab": {
          "base_uri": "https://localhost:8080/"
        },
        "id": "2c558567",
        "outputId": "5a401a70-42bd-4f85-c3c1-7faad5e0066a"
      },
      "outputs": [
        {
          "output_type": "stream",
          "name": "stdout",
          "text": [
            "tensor([[1, 2, 3, 4],\n",
            "        [5, 6, 7, 8]])\n",
            " \n",
            "tensor([[1, 5],\n",
            "        [2, 6],\n",
            "        [3, 7],\n",
            "        [4, 8]])\n",
            " \n",
            "tensor([[1, 2, 3, 4],\n",
            "        [5, 6, 7, 8]])\n"
          ]
        }
      ],
      "source": [
        "# repeat for a matrix\n",
        "tM  = torch.tensor([ [1, 2, 3, 4], [5, 6, 7, 8] ])\n",
        "print(tM), print(' ')\n",
        "\n",
        "# transpose it\n",
        "print(tM.T), print(' ')\n",
        "\n",
        "# transpose the transpose !\n",
        "tMT = tM.T\n",
        "print(tMT.T)"
      ]
    },
    {
      "cell_type": "code",
      "execution_count": 10,
      "id": "fdf18c49",
      "metadata": {
        "id": "fdf18c49"
      },
      "outputs": [],
      "source": []
    }
  ],
  "metadata": {
    "kernelspec": {
      "display_name": "Python 3 (ipykernel)",
      "language": "python",
      "name": "python3"
    },
    "language_info": {
      "codemirror_mode": {
        "name": "ipython",
        "version": 3
      },
      "file_extension": ".py",
      "mimetype": "text/x-python",
      "name": "python",
      "nbconvert_exporter": "python",
      "pygments_lexer": "ipython3",
      "version": "3.11.4"
    },
    "colab": {
      "provenance": [],
      "include_colab_link": true
    }
  },
  "nbformat": 4,
  "nbformat_minor": 5
}