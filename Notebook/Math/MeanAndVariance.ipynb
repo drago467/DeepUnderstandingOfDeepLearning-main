{
  "nbformat": 4,
  "nbformat_minor": 0,
  "metadata": {
    "colab": {
      "provenance": [],
      "authorship_tag": "ABX9TyPJYP6iGnGvaE+Vrk+wevZF",
      "include_colab_link": true
    },
    "kernelspec": {
      "name": "python3",
      "display_name": "Python 3"
    },
    "language_info": {
      "name": "python"
    }
  },
  "cells": [
    {
      "cell_type": "markdown",
      "metadata": {
        "id": "view-in-github",
        "colab_type": "text"
      },
      "source": [
        "<a href=\"https://colab.research.google.com/github/drago467/DeepUnderstandingOfDeepLearning-main/blob/master/Notebook/Math/MeanAndVariance.ipynb\" target=\"_parent\"><img src=\"https://colab.research.google.com/assets/colab-badge.svg\" alt=\"Open In Colab\"/></a>"
      ]
    },
    {
      "cell_type": "code",
      "execution_count": 1,
      "metadata": {
        "id": "qn9AmaW3G_KY"
      },
      "outputs": [],
      "source": [
        "# import libraries\n",
        "import numpy as np\n",
        "import torch\n",
        "import torch.nn as nn"
      ]
    },
    {
      "cell_type": "code",
      "source": [
        "# USING NUMPY\n",
        "\n",
        "v = np.array([1, 40, 2, -3])\n",
        "\n",
        "# find and report the maximum and minimum values\n",
        "minval = np.min(v)\n",
        "maxval = np.max(v)\n",
        "\n",
        "print('Min, max: %g, %g' %(minval, maxval))\n",
        "\n",
        "# now for the argmin/max\n",
        "minidx = np.argmin(v)\n",
        "maxidx = np.argmax(v)\n",
        "\n",
        "print('Min, max indices: %g, %g' %(minidx, maxidx)), print(' ')\n",
        "\n",
        "# # confirm\n",
        "print(f'Min values is { v[minidx] }, max val is { v[maxidx] }')"
      ],
      "metadata": {
        "colab": {
          "base_uri": "https://localhost:8080/"
        },
        "id": "Gtxvn6yyHE0n",
        "outputId": "d2de090b-b666-4fc9-d97e-e09caa9c8c43"
      },
      "execution_count": 4,
      "outputs": [
        {
          "output_type": "stream",
          "name": "stdout",
          "text": [
            "Min, max: -3, 40\n",
            "Min, max indices: 3, 1\n",
            " \n",
            "Min values is -3, max val is 40\n"
          ]
        }
      ]
    },
    {
      "cell_type": "code",
      "source": [
        "# repeat with matrix\n",
        "M = np.array([[0, 1, 10],\n",
        "              [20, 8, 5]\n",
        "              ])\n",
        "print(M), print('')\n",
        "\n",
        "# various minima in this matrix!\n",
        "minvals1 = np.min(M)             # minimum from ENTIRE matrix\n",
        "minvals2 = np.min(M, axis = 0)   # minimum of each column (across rows)\n",
        "minvals3 = np.min(M, axis = 1)   # minimum of each row (across columns)\n",
        "\n",
        "# print them out\n",
        "print(minvals1)\n",
        "print(minvals2)\n",
        "print(minvals3)"
      ],
      "metadata": {
        "colab": {
          "base_uri": "https://localhost:8080/"
        },
        "id": "lzsCXMeNHGP2",
        "outputId": "6589ff56-9e13-4d43-8865-e60206d1e13b"
      },
      "execution_count": 6,
      "outputs": [
        {
          "output_type": "stream",
          "name": "stdout",
          "text": [
            "[[ 0  1 10]\n",
            " [20  8  5]]\n",
            "\n",
            "0\n",
            "[0 1 5]\n",
            "[0 5]\n"
          ]
        }
      ]
    },
    {
      "cell_type": "code",
      "source": [
        "# various minima in this matrix!\n",
        "minidx1 = np.argmin(M)             # minimum from ENTIRE matrix\n",
        "minidx2 = np.argmin(M, axis = 0)   # minimum of each column (across rows)\n",
        "minidx3 = np.argmin(M, axis = 1)   # minimum of each row (across columns)\n",
        "\n",
        "# print them out\n",
        "print(M), print(' ') # reminder\n",
        "print(minidx1)\n",
        "print(minidx2)\n",
        "print(minidx3)"
      ],
      "metadata": {
        "colab": {
          "base_uri": "https://localhost:8080/"
        },
        "id": "6BD1uj9wKtAP",
        "outputId": "afb34c42-efe3-49b4-89b5-a7b3c8ccd812"
      },
      "execution_count": 8,
      "outputs": [
        {
          "output_type": "stream",
          "name": "stdout",
          "text": [
            "[[ 0  1 10]\n",
            " [20  8  5]]\n",
            " \n",
            "0\n",
            "[0 0 1]\n",
            "[0 2]\n"
          ]
        }
      ]
    },
    {
      "cell_type": "code",
      "source": [
        "# create a vector\n",
        "v = torch.tensor([1, 40, 2, -3])\n",
        "\n",
        "# find and report the maximum and minimum values\n",
        "minval = torch.min(v)\n",
        "maxval = torch.max(v)\n",
        "\n",
        "print('Min, max: %g, %g' %(minval, maxval)), print(' ')\n",
        "\n",
        "# now for the argmin/max\n",
        "minidx = torch.argmin(v)\n",
        "maxidx = torch.argmax(v)\n",
        "\n",
        "print('Min, max indices: %g, %g' %(minidx, maxidx)), print(' ')\n",
        "\n",
        "# confirm\n",
        "print(f'Min val is { v[minidx] }, max val is { v[maxidx]}')"
      ],
      "metadata": {
        "colab": {
          "base_uri": "https://localhost:8080/"
        },
        "id": "ZUltFPzHLm6y",
        "outputId": "a0910ad8-22a7-407a-fc26-e16e1d2d88a9"
      },
      "execution_count": 9,
      "outputs": [
        {
          "output_type": "stream",
          "name": "stdout",
          "text": [
            "Min, max: -3, 40\n",
            " \n",
            "Min, max indices: 3, 1\n",
            " \n",
            "Min val is -3, max val is 40\n"
          ]
        }
      ]
    },
    {
      "cell_type": "code",
      "source": [
        "# repeat with matrix\n",
        "M = torch.tensor([[0, 1, 10], [20, 8, 5]])\n",
        "print(M), print(' ')\n",
        "\n",
        "# various minima in this matrix!\n",
        "min1 = torch.min(M)             # minimum from Entire matrix\n",
        "min2 = torch.min(M, axis = 0)   # minimum of each column (across rows)\n",
        "min3 = torch.min(M, axis = 1)   # minimum of each row (across columns)\n",
        "\n",
        "# print them out\n",
        "print(min1), print(' ')\n",
        "print(min2), print(' ')\n",
        "print(min2.values)\n",
        "print(min2.indices)"
      ],
      "metadata": {
        "colab": {
          "base_uri": "https://localhost:8080/"
        },
        "id": "N2HpO6gfPAps",
        "outputId": "0238d249-4f3b-4f85-ab42-cc74fe20cd66"
      },
      "execution_count": 11,
      "outputs": [
        {
          "output_type": "stream",
          "name": "stdout",
          "text": [
            "tensor([[ 0,  1, 10],\n",
            "        [20,  8,  5]])\n",
            " \n",
            "tensor(0)\n",
            " \n",
            "torch.return_types.min(\n",
            "values=tensor([0, 1, 5]),\n",
            "indices=tensor([0, 0, 1]))\n",
            " \n",
            "tensor([0, 1, 5])\n",
            "tensor([0, 0, 1])\n"
          ]
        }
      ]
    },
    {
      "cell_type": "code",
      "source": [],
      "metadata": {
        "id": "8lwE0PTJQFYk"
      },
      "execution_count": null,
      "outputs": []
    }
  ]
}